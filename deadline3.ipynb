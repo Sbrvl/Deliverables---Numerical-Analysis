<<<<<<< HEAD
{"cells": [{"cell_type": "markdown", "metadata": {}, "source": ["# Group C - Team 2 : Week 3 Deliverable\n"]}, {"cell_type": "markdown", "metadata": {}, "source": ["## 1) Is the KPP equation an ODE or a PDE? Is it linear, homogeneous, autonomous?\n"]}, {"cell_type": "markdown", "metadata": {}, "source": ["## 2) Show that for all $x \\in [0, L]$, the IVP\n", "\n", "$$\\begin{cases}", "\\partial_t u(t, x) = \\alpha F (u(t, x)) \\\\", "u(t = 0, x) = u_0(x)", "\\end{cases}$$\n", "\n", "has a unique solution. Show that it is positive."]}, {"cell_type": "markdown", "metadata": {}, "source": ["## 3) Linearize the equation around the stable equilibria found in question 1.4.c and solve the linearized IVP(s)."]}, {"cell_type": "markdown", "metadata": {}, "source": ["## 4) Implement the forward Euler method to solve the IVP on $[0, T ]$ for $T > 0$."]}, {"cell_type": "markdown", "metadata": {}, "source": ["## 5) Prove the convergence of the Crank-Nicolson method for the $\\infty$-norm and implement it to define an implicit scheme on $[0, T ]$ for $T > 0$. Implement Newton\u2019s method to solve the implicit scheme and the IVP."]}, {"cell_type": "code", "metadata": {}, "source": ["import numpy as np\n", "import matplotlib.pyplot as plt\n", "\n", "def fixed_point_vector(g, x0, tol=1e-8, iterations=100):\n", "    \"\"\"Fixed-point iteration for vector-valued functions.\"\"\"\n", "    it = 0\n", "    x_current = x0\n", "    x_next = g(x0)\n", "    while np.linalg.norm(x_next - x_current) > tol and it < iterations:\n", "        x_current = x_next\n", "        x_next = g(x_current)\n", "        it += 1\n", "    return x_next\n"]}, {"cell_type": "code", "metadata": {}, "source": ["def crank_nicolson(T, f, y0, N):\n", "    \"\"\"Crank-Nicolson method for vector-valued functions in R^d.\"\"\"\n", "    h = T / (N + 1)\n", "    t = np.linspace(0, T, N+2)\n", "    d = len(y0)  # Dimension of the system\n", "    z = np.zeros((N+2, d))  # Store solutions as an array of vectors\n", "    z[0] = y0\n", "\n", "    for k in range(N+1):\n", "        def g(x):\n", "            return z[k] + (h/2) * (f(t[k], z[k]) + f(t[k+1], x))\n", "\n", "        z[k+1] = fixed_point_vector(g, z[k])  # Solve for the next vector z[k+1]\n", "\n", "    return t, z\n"]}], "metadata": {"kernelspec": {"display_name": "Python 3", "language": "python", "name": "python3"}, "language_info": {"codemirror_mode": {"name": "ipython", "version": 3}, "file_extension": ".py", "mimetype": "text/x-python", "name": "python", "nbconvert_exporter": "python", "pygments_lexer": "ipython3", "version": "3.8"}}, "nbformat": 4, "nbformat_minor": 4}
=======
{
 "cells": [
  {
   "cell_type": "markdown",
   "metadata": {},
   "source": [
    "### Answer to Question (a)\n",
    "\n",
    "The given initial value problem (IVP) is:\n",
    "\n",
    "$$\n",
    "\\begin{cases}\n",
    "\\partial_t u = \\alpha F(u) \\\\\n",
    "u(t=0) = u^0\n",
    "\\end{cases}\n",
    "$$\n",
    "\n",
    "where the nonlinear function $ F(u) $ is given by:\n",
    "\n",
    "$$\n",
    "F(u) = u \\frac{u_0 - u}{u_0 + u}\n",
    "$$\n",
    "\n",
    "#### Classification:\n",
    "\n",
    "1. **ODE or PDE?**  \n",
    "   - Since the equation involves only the time derivative $ \\partial_t u $ and no spatial derivatives, it is an **ordinary differential equation (ODE)**.\n",
    "\n",
    "2. **Linearity:**  \n",
    "   - The function $ F(u) $ is nonlinear in $ u $, making the equation **nonlinear**.\n",
    "\n",
    "3. **Homogeneity:**  \n",
    "   - The equation has a second member that is non-zero, therefore the equations is not homogeneous. \n",
    "\n",
    "4. **Autonomous or Non-Autonomous?**  \n",
    "   - The right-hand side, $ \\alpha F(u) $, does not explicitly depend on t, meaning the system is **autonomous**.\n"
   ]
  }
 ],
 "metadata": {
  "language_info": {
   "name": "python"
  }
 },
 "nbformat": 4,
 "nbformat_minor": 2
}
>>>>>>> 11f534b072210ae9a34c1b369ce75b8428686186
