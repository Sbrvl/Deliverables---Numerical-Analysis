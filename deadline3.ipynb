{
 "cells": [
  {
   "cell_type": "markdown",
   "metadata": {},
   "source": [
    "# Group C - Team 2 : Week 3 Deliverable\n"
   ]
  },
  {
   "cell_type": "markdown",
   "metadata": {},
   "source": [
    "## 1) Is the KPP equation an ODE or a PDE? Is it linear, homogeneous, autonomous?\n",
    "\n",
    "1. **ODE or PDE?**\n",
    "- Since the equation involves only the time derivative $ \\partial_t u $ and no spatial derivatives, it is an **ordinary differential equation (ODE)**.\n",
    "\n",
    "2. **Linearity:**\n",
    "- The function $ F(u) $ is nonlinear in $ u $, making the equation **nonlinear**.\n",
    "\n",
    "3. **Homogeneity:**\n",
    "- The equation has a second member that is non-zero, therefore the equations is not homogeneous.\n",
    "\n",
    "4. **Autonomous or Non-Autonomous:**\n",
    "- The right-hand side, $ \\alpha F(u) $, does not explicitly depend on t, meaning the system is **autonomous**."
   ]
  },
  {
   "cell_type": "markdown",
   "metadata": {},
   "source": [
    "## 2) Show that for all $x \\in [0, L]$, the IVP  has a unique solution. Show that it is positive."
   ]
  },
  {
   "cell_type": "markdown",
   "metadata": {},
   "source": [
    "## 3) Linearize the equation around the stable equilibria found in question 1.4.c and solve the linearized IVP(s)."
   ]
  },
  {
   "cell_type": "markdown",
   "metadata": {},
   "source": [
    "## 4) Implement the forward Euler method to solve the IVP on $[0, T ]$ for $T > 0$."
   ]
  },
  {
   "cell_type": "markdown",
   "metadata": {},
   "source": [
    "## 5) Prove the convergence of the Crank-Nicolson method for the $\\infty$-norm and implement it to define an implicit scheme on $[0, T ]$ for $T > 0$. Implement Newton’s method to solve the implicit scheme and the IVP."
   ]
  },
  {
   "cell_type": "code",
   "execution_count": null,
   "metadata": {},
   "outputs": [],
   "source": [
    "\n"
   ]
  }
 ],
 "metadata": {
  "kernelspec": {
   "display_name": "Python 3",
   "language": "python",
   "name": "python3"
  },
  "language_info": {
   "codemirror_mode": {
    "name": "ipython",
    "version": 3
   },
   "file_extension": ".py",
   "mimetype": "text/x-python",
   "name": "python",
   "nbconvert_exporter": "python",
   "pygments_lexer": "ipython3",
   "version": "3.8"
  }
 },
 "nbformat": 4,
 "nbformat_minor": 4
}
