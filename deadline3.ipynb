{
 "cells": [
  {
   "cell_type": "markdown",
   "metadata": {},
   "source": [
    "# Group C - Team 2 : Week 3 Deliverable\n"
   ]
  },
  {
   "cell_type": "markdown",
   "metadata": {},
   "source": [
    "## 1) Is the KPP equation an ODE or a PDE? Is it linear, homogeneous, autonomous?\n",
    "\n",
    "1. **ODE or PDE?**\n",
    "- Since the equation involves only the time derivative $ \\partial_t u $ and no spatial derivatives, it is an **ordinary differential equation (ODE)**.\n",
    "\n",
    "2. **Linearity:**\n",
    "- The function $ F(u) $ is nonlinear in $ u $, making the equation **nonlinear**.\n",
    "\n",
    "3. **Homogeneity:**\n",
    "- The equation has a second member that is non-zero, therefore the equations is not homogeneous.\n",
    "\n",
    "4. **Autonomous or Non-Autonomous:**\n",
    "- The right-hand side, $ \\alpha F(u) $, does not explicitly depend on t, meaning the system is **autonomous**."
   ]
  },
  {
   "cell_type": "markdown",
   "metadata": {},
   "source": [
    "## 2) Show that for all $x \\in [0, L]$, the IVP  has a unique solution. Show that it is positive.\n",
    "We need to show that for all $ x \\in [0, L] $, the initial value problem (IVP):\n",
    "\n",
    "$$\n",
    "\\begin{cases}\n",
    "\\partial_t u(t, x) = \\alpha F(u(t, x)) \\\\\n",
    "u(t=0, x) = u^0(x)\n",
    "\\end{cases}\n",
    "$$\n",
    "\n",
    "has a **unique solution**, and that it is **positive**.\n",
    "\n",
    "\n",
    "\n",
    "### 1. Existence and Uniqueness of the Solution\n",
    "\n",
    "A sufficient condition for the uniqueness of solutions is that the function $ F(u) $ is **Lipschitz continuous**, meaning there exists a constant $ L $ such that:\n",
    "\n",
    "$$\n",
    "|F(u) - F(v)| \\leq L |u - v|, \\quad \\forall u, v.\n",
    "$$\n",
    "\n",
    "#### Proof that $ F(u) $ is Lipschitz\n",
    "\n",
    "The given function is:\n",
    "\n",
    "$$\n",
    "F(u) = u \\frac{u_0 - u}{u_0 + u}.\n",
    "$$\n",
    "\n",
    "We compute the difference:\n",
    "\n",
    "$$\n",
    "F(u) - F(v) = u \\frac{u_0 - u}{u_0 + u} - v \\frac{u_0 - v}{u_0 + v}.\n",
    "$$\n",
    "\n",
    "Rewriting with a common denominator:\n",
    "\n",
    "$$\n",
    "F(u) - F(v) = \\frac{u (u_0 - u) (u_0 + v) - v (u_0 - v) (u_0 + u)}{(u_0 + u)(u_0 + v)}.\n",
    "$$\n",
    "\n",
    "Expanding the numerators:\n",
    "\n",
    "$$\n",
    "u (u_0 - u) (u_0 + v) = u (u_0^2 + u_0 v - u u_0 - u v),\n",
    "$$\n",
    "\n",
    "$$\n",
    "v (u_0 - v) (u_0 + u) = v (u_0^2 + u_0 u - v u_0 - v u).\n",
    "$$\n",
    "\n",
    "Thus, the numerator simplifies to:\n",
    "\n",
    "$$\n",
    "(u - v) (u_0^2 + u_0 v - u_0 u - u v).\n",
    "$$\n",
    "\n",
    "So,\n",
    "\n",
    "$$\n",
    "|F(u) - F(v)| = \\left| \\frac{(u - v) (u_0^2 + u_0 v - u_0 u - u v)}{(u_0 + u)(u_0 + v)} \\right|.\n",
    "$$\n",
    "\n",
    "For $ u, v $ in a compact interval, the denominator $ (u_0 + u)(u_0 + v) $ is bounded away from zero, and the numerator grows at most quadratically. This ensures the existence of a constant $ L $ such that:\n",
    "\n",
    "$$\n",
    "|F(u) - F(v)| \\leq L |u - v|.\n",
    "$$\n",
    "\n",
    "Since $ F(u) $ is Lipschitz, we conclude that the IVP has a **unique solution**.\n",
    "\n",
    "\n",
    "### 2. Positivity of the Solution\n",
    "\n",
    "To show that $ u(t, x) > 0 $ for all $ t > 0 $, we observe the following:\n",
    "\n",
    "- The initial condition is $ u^0(x) = u_1 > 0 $.\n",
    "- The function $ F(u) $ satisfies $ F(0) = 0 $ and is **non-negative** for all $ u > 0 $.\n",
    "- The equation $ \\partial_t u = \\alpha F(u) $ implies that if $ u(t=0, x) > 0 $, then $ \\partial_t u \\geq 0 $ whenever $ u > 0 $.\n",
    "\n",
    "To prove that $ u(t, x) $ remains positive, assume by contradiction that there exists a time $ t^* > 0 $ such that $ u(t^*, x) = 0 $ for some $ x $. Then,\n",
    "\n",
    "$$\n",
    "\\partial_t u(t^*, x) = \\alpha F(0) = 0.\n",
    "$$\n",
    "\n",
    "Since $ F(u) $ is positive for $ u > 0 $, $ u(t, x) $ cannot decrease to zero from a positive value, contradicting our assumption. Therefore, $ u(t, x) $ remains **strictly positive** for all $ t > 0 $.\n",
    "\n",
    "Thus, we conclude:\n",
    "\n",
    "$$\n",
    "u(t, x) > 0, \\quad \\forall t > 0, \\quad \\forall x \\in [0, L].\n",
    "$$"
   ]
  },
  {
   "cell_type": "markdown",
   "metadata": {},
   "source": [
    "## 3) Linearize the equation around the stable equilibria found in question 1.4.c and solve the linearized IVP(s)."
   ]
  },
  {
   "cell_type": "markdown",
   "metadata": {},
   "source": [
    "## 4) Implement the forward Euler method to solve the IVP on $[0, T ]$ for $T > 0$."
   ]
  },
  {
   "cell_type": "markdown",
   "metadata": {},
   "source": [
    "## 5) Prove the convergence of the Crank-Nicolson method for the $\\infty$-norm and implement it to define an implicit scheme on $[0, T ]$ for $T > 0$. Implement Newton’s method to solve the implicit scheme and the IVP."
   ]
  },
  {
   "cell_type": "code",
   "execution_count": null,
   "metadata": {},
   "outputs": [],
   "source": [
    "\n"
   ]
  }
 ],
 "metadata": {
  "kernelspec": {
   "display_name": "Python 3",
   "language": "python",
   "name": "python3"
  },
  "language_info": {
   "codemirror_mode": {
    "name": "ipython",
    "version": 3
   },
   "file_extension": ".py",
   "mimetype": "text/x-python",
   "name": "python",
   "nbconvert_exporter": "python",
   "pygments_lexer": "ipython3",
   "version": "3.8"
  }
 },
 "nbformat": 4,
 "nbformat_minor": 4
}
